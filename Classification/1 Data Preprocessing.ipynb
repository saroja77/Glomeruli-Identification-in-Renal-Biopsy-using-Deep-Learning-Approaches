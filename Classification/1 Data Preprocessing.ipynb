{
  "cells": [
    {
      "cell_type": "code",
      "execution_count": null,
      "metadata": {
        "id": "6T-xEz6rflBB"
      },
      "outputs": [],
      "source": [
        "!pip install albumentations\n",
        "!pip install opencv-python-headless==4.5.2.52"
      ]
    },
    {
      "cell_type": "code",
      "execution_count": null,
      "metadata": {
        "id": "Di7cWq_jhMp1"
      },
      "outputs": [],
      "source": [
        "from PIL import Image\n",
        "import numpy as np\n",
        "import albumentations as A\n",
        "import cv2"
      ]
    },
    {
      "cell_type": "code",
      "execution_count": null,
      "metadata": {
        "id": "Tjp0oZbfwjCA"
      },
      "outputs": [],
      "source": [
        "import os\n",
        "import glob\n",
        "from keras.preprocessing.image import ImageDataGenerator, array_to_img, img_to_array, load_img\n",
        "datagen = ImageDataGenerator(rotation_range =15,\n",
        "                          width_shift_range = 0.2,\n",
        "                          height_shift_range = 0.2,\n",
        "                          rescale=1./255,\n",
        "                          shear_range=0.2,\n",
        "                          zoom_range=0.2,\n",
        "                          horizontal_flip = True,\n",
        "                          fill_mode = 'nearest',\n",
        "                          data_format='channels_last',\n",
        "                         brightness_range=[0.5, 1.5])\n",
        "\n",
        "img_dir = \"/content/drive/MyDrive/DATASET_B_DIB/normal\" # Enter Directory of all images\n",
        "data_path = os.path.join(img_dir,'*g')\n",
        "files = glob.glob(data_path)\n",
        "data = []\n",
        "for f1 in files:\n",
        "    img = cv2.imread(f1)\n",
        "    data.append(img)\n",
        "\n",
        "x = img_to_array(img)\n",
        "x = x.reshape((1,) + x.shape)\n",
        "\n",
        "i=0\n",
        "for batch in datagen.flow (x, batch_size=1, save_to_dir =r'/content/drive/MyDrive/Classification/normal_aug',save_prefix=\"a\",save_format='jpg'):\n",
        "    i+=1\n",
        "    if i==1170:\n",
        "      break\n"
      ]
    },
    {
      "cell_type": "code",
      "execution_count": null,
      "metadata": {
        "colab": {
          "base_uri": "https://localhost:8080/"
        },
        "id": "GoU59pXz_vGK",
        "outputId": "69ac0756-9c4f-45f0-fb7b-2bf9993692bf"
      },
      "outputs": [
        {
          "output_type": "stream",
          "name": "stdout",
          "text": [
            "2078\n"
          ]
        }
      ],
      "source": [
        "path, dirs, files = next(os.walk(\"/content/drive/MyDrive/Classification/normal_aug\"))\n",
        "file_count = len(files) #to find number of files in folder\n",
        "print(file_count)\n"
      ]
    },
    {
      "cell_type": "code",
      "source": [
        "import os\n",
        "import glob\n",
        "from keras.preprocessing.image import ImageDataGenerator, array_to_img, img_to_array, load_img\n",
        "datagen = ImageDataGenerator(rotation_range =15,\n",
        "                          width_shift_range = 0.2,\n",
        "                          height_shift_range = 0.2,\n",
        "                          rescale=1./255,\n",
        "                          shear_range=0.2,\n",
        "                          zoom_range=0.2,\n",
        "                          horizontal_flip = True,\n",
        "                          fill_mode = 'nearest',\n",
        "                          data_format='channels_last',\n",
        "                         brightness_range=[0.5, 1.5])\n",
        "\n",
        "img_dir = \"/content/drive/MyDrive/DATASET_B_DIB/sclerosed\" # Enter Directory of all images\n",
        "data_path = os.path.join(img_dir,'*g')\n",
        "files = glob.glob(data_path)\n",
        "data = []\n",
        "for f1 in files:\n",
        "    img = cv2.imread(f1)\n",
        "    data.append(img)\n",
        "\n",
        "x = img_to_array(img)\n",
        "x = x.reshape((1,) + x.shape)\n",
        "\n",
        "i=0\n",
        "for batch in datagen.flow (x, batch_size=1, save_to_dir =r'/content/drive/MyDrive/Classification/sclerosed_aug',save_prefix=\"a\",save_format='jpg'):\n",
        "    i+=1\n",
        "    if i==1170:\n",
        "      break\n"
      ],
      "metadata": {
        "id": "UmSWCKfnr3Od"
      },
      "execution_count": null,
      "outputs": []
    },
    {
      "cell_type": "code",
      "source": [
        "path, dirs, files = next(os.walk(\"/content/drive/MyDrive/Classification/sclerosed_aug\"))\n",
        "file_count = len(files) #to find number of files in folder\n",
        "print(file_count)\n"
      ],
      "metadata": {
        "colab": {
          "base_uri": "https://localhost:8080/"
        },
        "id": "FXfkDwlDr3WV",
        "outputId": "1baf17a1-7073-4f5d-d269-0f96b56bc0ac"
      },
      "execution_count": null,
      "outputs": [
        {
          "output_type": "stream",
          "name": "stdout",
          "text": [
            "2078\n"
          ]
        }
      ]
    },
    {
      "cell_type": "code",
      "source": [
        "from PIL import Image\n",
        "\n",
        "im = Image.open('/content/drive/MyDrive/Classification/glomeruli/dataset/test/0_sclerosed/sclerosed_0008.png')\n",
        "print(im.size)"
      ],
      "metadata": {
        "colab": {
          "base_uri": "https://localhost:8080/"
        },
        "id": "T1k52y_mzhs0",
        "outputId": "c5f5de51-d866-41e1-dbed-8ffc92eb5d58"
      },
      "execution_count": null,
      "outputs": [
        {
          "output_type": "stream",
          "name": "stdout",
          "text": [
            "(219, 214)\n"
          ]
        }
      ]
    }
  ],
  "metadata": {
    "colab": {
      "machine_shape": "hm",
      "provenance": []
    },
    "kernelspec": {
      "display_name": "Python 3",
      "name": "python3"
    },
    "language_info": {
      "name": "python"
    }
  },
  "nbformat": 4,
  "nbformat_minor": 0
}